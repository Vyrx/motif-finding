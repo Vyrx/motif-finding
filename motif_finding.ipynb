{
 "cells": [
  {
   "cell_type": "markdown",
   "metadata": {},
   "source": [
    "## Get first 1000 bases of each gene"
   ]
  },
  {
   "cell_type": "code",
   "execution_count": 17,
   "metadata": {},
   "outputs": [
    {
     "name": "stdout",
     "output_type": "stream",
     "text": [
      "d:\\College\\Biomedical Data Mining\\Project\\genes\n"
     ]
    }
   ],
   "source": [
    "import os\n",
    "import numpy as np\n",
    "import random\n",
    "import math\n",
    "\n",
    "folder = \"genes\"\n",
    "print(os.path.join(os.getcwd(), folder))\n",
    "genes_path = os.path.join(os.getcwd(), folder)\n",
    "dir_list = os.listdir(genes_path)\n",
    "\n",
    "data = np.array([])\n",
    "\n",
    "for file_name in dir_list:\n",
    "    f = open(os.path.join(genes_path, file_name), \"r\")\n",
    "    str1 = \"\"\n",
    "    for i, text in enumerate(f):\n",
    "        if i > 0:\n",
    "            str1 += text[:len(text) - 1]\n",
    "    data = np.append(data, str1[:1000])\n",
    "    f.close()"
   ]
  },
  {
   "cell_type": "markdown",
   "metadata": {},
   "source": [
    "Randomly initialize position of motif in each gene"
   ]
  },
  {
   "cell_type": "code",
   "execution_count": 18,
   "metadata": {},
   "outputs": [],
   "source": [
    "w = 15 # Length of motif\n",
    "num_genes = len(data)\n",
    "PWM = np.zeros((w, 4)) # A = 0, C = 1, G = 2, T = 3 (motif length x 4)\n",
    "\n",
    "bg_prob = np.zeros(4)\n",
    "count_A = count_C = count_G = count_T = 0\n",
    "for gene in data:\n",
    "    for base in gene:\n",
    "        if base == 'A':\n",
    "            count_A += 1\n",
    "        elif base == 'C':\n",
    "            count_C += 1\n",
    "        elif base == 'G':\n",
    "            count_G += 1\n",
    "        elif base == 'T':\n",
    "            count_T += 1\n",
    "bg_prob[0] = count_A / (num_genes * 1000)\n",
    "bg_prob[1] = count_C / (num_genes * 1000)\n",
    "bg_prob[2] = count_G / (num_genes * 1000)\n",
    "bg_prob[3] = count_T / (num_genes * 1000)\n",
    "\n",
    "start_pos = [random.randint(0, 999 - w + 1) for i in range(num_genes)] # Starting position of the motif in each gene (num_genes)\n",
    "\n",
    "cur_motif = np.array([]) # Current motif based on start_pos (num_genes x motif length)\n",
    "for i in range(num_genes):\n",
    "    cur_motif = np.append(cur_motif, data[i][start_pos[i]:start_pos[i] + w])"
   ]
  },
  {
   "cell_type": "markdown",
   "metadata": {},
   "source": [
    "Main Loop"
   ]
  },
  {
   "cell_type": "code",
   "execution_count": 19,
   "metadata": {},
   "outputs": [
    {
     "name": "stdout",
     "output_type": "stream",
     "text": [
      "Iterations: 131\n",
      "[[0.03448276 0.03448276 0.27586207 0.65517241]\n",
      " [0.20689655 0.4137931  0.13793103 0.24137931]\n",
      " [0.03448276 0.62068966 0.03448276 0.31034483]\n",
      " [0.03448276 0.75862069 0.03448276 0.17241379]\n",
      " [0.20689655 0.51724138 0.10344828 0.17241379]\n",
      " [0.06896552 0.10344828 0.06896552 0.75862069]\n",
      " [0.31034483 0.03448276 0.44827586 0.20689655]\n",
      " [0.06896552 0.86206897 0.03448276 0.03448276]\n",
      " [0.10344828 0.4137931  0.44827586 0.03448276]\n",
      " [0.24137931 0.65517241 0.06896552 0.03448276]\n",
      " [0.34482759 0.13793103 0.17241379 0.34482759]\n",
      " [0.06896552 0.17241379 0.10344828 0.65517241]\n",
      " [0.37931034 0.17241379 0.13793103 0.31034483]\n",
      " [0.03448276 0.17241379 0.06896552 0.72413793]\n",
      " [0.27586207 0.10344828 0.03448276 0.5862069 ]]\n",
      "TCCCCTGCGCATATT\n"
     ]
    }
   ],
   "source": [
    "it = 0\n",
    "times_didnt_change = 0\n",
    "\n",
    "while(True):\n",
    "\n",
    "    cur_gene = it % num_genes\n",
    "\n",
    "    # Construct PWM without current gene\n",
    "    for i in range(w):\n",
    "        count_A = count_C = count_G = count_T = 0\n",
    "        for j in range(num_genes):\n",
    "            if j == cur_gene:\n",
    "                continue\n",
    "            if cur_motif[j][i] == 'A':\n",
    "                count_A += 1\n",
    "            elif cur_motif[j][i] == 'C':\n",
    "                count_C += 1\n",
    "            elif cur_motif[j][i] == 'G':\n",
    "                count_G += 1\n",
    "            elif cur_motif[j][i] == 'T':\n",
    "                count_T += 1\n",
    "        PWM[i][0] = (count_A + 1) / (num_genes - 1 + 4)\n",
    "        PWM[i][1] = (count_C + 1) / (num_genes - 1 + 4)\n",
    "        PWM[i][2] = (count_G + 1) / (num_genes - 1 + 4)\n",
    "        PWM[i][3] = (count_T + 1) / (num_genes - 1 + 4)\n",
    "\n",
    "    max_score = 0\n",
    "    best_pos = 0\n",
    "\n",
    "    # Check score for each possible motif position, get max score\n",
    "    for i in range(1000 - w + 1):\n",
    "        logscore = 0\n",
    "        for j in range(w):\n",
    "            if data[cur_gene][i + j] == 'A':\n",
    "                logscore += math.log(PWM[j][0]/bg_prob[0])\n",
    "            elif data[cur_gene][i + j] == 'C':\n",
    "                logscore += math.log(PWM[j][1]/bg_prob[1])\n",
    "            elif data[cur_gene][i + j] == 'G':\n",
    "                logscore += math.log(PWM[j][2]/bg_prob[2])\n",
    "            elif data[cur_gene][i + j] == 'T':\n",
    "                logscore += math.log(PWM[j][3]/bg_prob[3])\n",
    "        if logscore > max_score or i == 0:\n",
    "            max_score = logscore\n",
    "            best_pos = i\n",
    "\n",
    "    \n",
    "    if start_pos[cur_gene] == best_pos: # If the motif position didnt change num_genes times in a row, end loop\n",
    "        times_didnt_change += 1\n",
    "    else:\n",
    "        times_didnt_change = 0\n",
    "\n",
    "    if times_didnt_change >= num_genes:\n",
    "        break\n",
    "\n",
    "    # Update start position and motif\n",
    "    start_pos[cur_gene] = best_pos\n",
    "    cur_motif[cur_gene] = data[cur_gene][best_pos:best_pos + w]\n",
    "    it += 1\n",
    "\n",
    "print(\"Iterations: \" + str(it))\n",
    "\n",
    "# Calculate PWM\n",
    "for i in range(w):\n",
    "    count_A = count_C = count_G = count_T = 0\n",
    "    for j in range(num_genes):\n",
    "        if cur_motif[j][i] == 'A':\n",
    "            count_A += 1\n",
    "        elif cur_motif[j][i] == 'C':\n",
    "            count_C += 1\n",
    "        elif cur_motif[j][i] == 'G':\n",
    "            count_G += 1\n",
    "        elif cur_motif[j][i] == 'T':\n",
    "            count_T += 1\n",
    "    PWM[i][0] = (count_A + 1) / (num_genes + 4)\n",
    "    PWM[i][1] = (count_C + 1) / (num_genes + 4)\n",
    "    PWM[i][2] = (count_G + 1) / (num_genes + 4)\n",
    "    PWM[i][3] = (count_T + 1) / (num_genes + 4)\n",
    "\n",
    "print(PWM)\n",
    "output_motif = ''\n",
    "for i in range(w):\n",
    "    index = np.argmax(PWM[i])\n",
    "    if index == 0:\n",
    "        output_motif += 'A'\n",
    "    elif index == 1:\n",
    "        output_motif += 'C'\n",
    "    elif index == 2:\n",
    "        output_motif += 'G'\n",
    "    elif index == 3:\n",
    "        output_motif += 'T'\n",
    "print(output_motif)"
   ]
  }
 ],
 "metadata": {
  "kernelspec": {
   "display_name": "Python 3",
   "language": "python",
   "name": "python3"
  },
  "language_info": {
   "codemirror_mode": {
    "name": "ipython",
    "version": 3
   },
   "file_extension": ".py",
   "mimetype": "text/x-python",
   "name": "python",
   "nbconvert_exporter": "python",
   "pygments_lexer": "ipython3",
   "version": "3.9.4"
  }
 },
 "nbformat": 4,
 "nbformat_minor": 2
}
